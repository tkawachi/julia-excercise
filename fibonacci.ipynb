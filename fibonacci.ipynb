{
 "cells": [
  {
   "cell_type": "markdown",
   "metadata": {},
   "source": [
    "## Hello World"
   ]
  },
  {
   "cell_type": "code",
   "execution_count": 3,
   "metadata": {},
   "outputs": [
    {
     "name": "stdout",
     "output_type": "stream",
     "text": [
      "Hello, World!\n"
     ]
    }
   ],
   "source": [
    "println(\"Hello, World!\")"
   ]
  },
  {
   "cell_type": "markdown",
   "metadata": {},
   "source": [
    "## フィボナッチ"
   ]
  },
  {
   "cell_type": "code",
   "execution_count": 34,
   "metadata": {},
   "outputs": [
    {
     "name": "stdout",
     "output_type": "stream",
     "text": [
      "  1.185837 seconds (1 allocation: 448 bytes)\n"
     ]
    },
    {
     "data": {
      "text/plain": [
       "41-element Array{Int64,1}:\n",
       "         0\n",
       "         1\n",
       "         1\n",
       "         2\n",
       "         3\n",
       "         5\n",
       "         8\n",
       "        13\n",
       "        21\n",
       "        34\n",
       "        55\n",
       "        89\n",
       "       144\n",
       "         ⋮\n",
       "    514229\n",
       "    832040\n",
       "   1346269\n",
       "   2178309\n",
       "   3524578\n",
       "   5702887\n",
       "   9227465\n",
       "  14930352\n",
       "  24157817\n",
       "  39088169\n",
       "  63245986\n",
       " 102334155"
      ]
     },
     "execution_count": 34,
     "metadata": {},
     "output_type": "execute_result"
    }
   ],
   "source": [
    "fib(n) = if n == 0\n",
    "    0\n",
    "elseif n == 1\n",
    "    1\n",
    "else\n",
    "    fib(n-1) + fib(n-2)\n",
    "end\n",
    "\n",
    "@time fib.(0:40)"
   ]
  },
  {
   "cell_type": "code",
   "execution_count": 29,
   "metadata": {},
   "outputs": [
    {
     "name": "stdout",
     "output_type": "stream",
     "text": [
      "\t.text\n",
      "; ┌ @ In[28]:1 within `fib'\n",
      "\tpushq\t%r15\n",
      "\tpushq\t%r14\n",
      "\tpushq\t%rbx\n",
      "\ttestq\t%rdi, %rdi\n",
      "\tje\tL30\n",
      "\tmovq\t%rdi, %rbx\n",
      "; │ @ In[28]:1 within `fib'\n",
      "\tcmpq\t$1, %rdi\n",
      "\tjne\tL38\n",
      "\tmovl\t$1, %eax\n",
      "; │ @ In[28]:2 within `fib'\n",
      "\tpopq\t%rbx\n",
      "\tpopq\t%r14\n",
      "\tpopq\t%r15\n",
      "\tretq\n",
      "L30:\n",
      "\txorl\t%eax, %eax\n",
      "; │ @ In[28]:2 within `fib'\n",
      "\tpopq\t%rbx\n",
      "\tpopq\t%r14\n",
      "\tpopq\t%r15\n",
      "\tretq\n",
      "; │ @ In[28]:6 within `fib'\n",
      "; │┌ @ int.jl:52 within `-'\n",
      "L38:\n",
      "\tleaq\t-1(%rbx), %rdi\n",
      "; │└\n",
      "\tmovabsq\t$julia_fib_17686, %r15\n",
      "\tcallq\t*%r15\n",
      "\tmovq\t%rax, %r14\n",
      "; │┌ @ int.jl:52 within `-'\n",
      "\taddq\t$-2, %rbx\n",
      "; │└\n",
      "\tmovq\t%rbx, %rdi\n",
      "\tcallq\t*%r15\n",
      "; │┌ @ int.jl:53 within `+'\n",
      "\taddq\t%r14, %rax\n",
      "; │└\n",
      "\tpopq\t%rbx\n",
      "\tpopq\t%r14\n",
      "\tpopq\t%r15\n",
      "\tretq\n",
      "\tnopl\t(%rax)\n",
      "; └\n"
     ]
    }
   ],
   "source": [
    "code_native(fib, Tuple{Int64})"
   ]
  },
  {
   "cell_type": "code",
   "execution_count": 35,
   "metadata": {},
   "outputs": [
    {
     "name": "stdout",
     "output_type": "stream",
     "text": [
      "  0.000002 seconds (1 allocation: 448 bytes)\n"
     ]
    },
    {
     "data": {
      "text/plain": [
       "41-element Array{Int64,1}:\n",
       "         0\n",
       "         1\n",
       "         1\n",
       "         2\n",
       "         3\n",
       "         5\n",
       "         8\n",
       "        13\n",
       "        21\n",
       "        34\n",
       "        55\n",
       "        89\n",
       "       144\n",
       "         ⋮\n",
       "    514229\n",
       "    832040\n",
       "   1346269\n",
       "   2178309\n",
       "   3524578\n",
       "   5702887\n",
       "   9227465\n",
       "  14930352\n",
       "  24157817\n",
       "  39088169\n",
       "  63245986\n",
       " 102334155"
      ]
     },
     "execution_count": 35,
     "metadata": {},
     "output_type": "execute_result"
    }
   ],
   "source": [
    "fib2(n, a = 0, b = 1) = if n == 0\n",
    "    a\n",
    "elseif n == 1\n",
    "    b\n",
    "else\n",
    "    fib2(n-1, b, a+b)\n",
    "end\n",
    "\n",
    "@time fib2.(0:40)"
   ]
  },
  {
   "cell_type": "code",
   "execution_count": 24,
   "metadata": {},
   "outputs": [
    {
     "name": "stdout",
     "output_type": "stream",
     "text": [
      "\t.text\n",
      "; ┌ @ In[23]:1 within `fib2'\n",
      "\tpushq\t%rax\n",
      "; │ @ In[23]:1 within `fib2' @ In[23]:1\n",
      "\ttestq\t%rdi, %rdi\n",
      "\tje\tL19\n",
      "\tcmpq\t$1, %rdi\n",
      "\tjne\tL23\n",
      "\tmovl\t$1, %eax\n",
      "; │ @ In[23]:1 within `fib2'\n",
      "\tpopq\t%rcx\n",
      "\tretq\n",
      "L19:\n",
      "\txorl\t%eax, %eax\n",
      "; │ @ In[23]:1 within `fib2'\n",
      "\tpopq\t%rcx\n",
      "\tretq\n",
      "; │ @ In[23]:1 within `fib2' @ In[23]:6\n",
      "; │┌ @ int.jl:52 within `-'\n",
      "L23:\n",
      "\tleaq\t-1(%rdi), %rcx\n",
      "\tmovl\t$1, %eax\n",
      "; │└\n",
      "; │ @ In[23]:1 within `fib2' @ In[23]:6 @ In[23]:1\n",
      "\tcmpq\t$2, %rcx\n",
      "\tjae\tL40\n",
      "; │ @ In[23]:1 within `fib2'\n",
      "\tpopq\t%rcx\n",
      "\tretq\n",
      "; │ @ In[23]:1 within `fib2' @ In[23]:6 @ In[23]:6\n",
      "; │┌ @ int.jl:52 within `-'\n",
      "L40:\n",
      "\taddq\t$-2, %rdi\n",
      "; │└\n",
      "\tmovabsq\t$fib2, %rax\n",
      "\tmovl\t$1, %esi\n",
      "\tmovl\t$2, %edx\n",
      "\tcallq\t*%rax\n",
      "; │ @ In[23]:1 within `fib2'\n",
      "\tpopq\t%rcx\n",
      "\tretq\n",
      "\tnopw\t%cs:(%rax,%rax)\n",
      "\tnop\n",
      "; └\n"
     ]
    }
   ],
   "source": [
    "code_native(fib2, Tuple{Int64})"
   ]
  },
  {
   "cell_type": "code",
   "execution_count": 39,
   "metadata": {},
   "outputs": [
    {
     "data": {
      "text/plain": [
       "41-element Array{Int64,1}:\n",
       "         0\n",
       "         1\n",
       "         1\n",
       "         2\n",
       "         3\n",
       "         5\n",
       "         8\n",
       "        13\n",
       "        21\n",
       "        34\n",
       "        55\n",
       "        89\n",
       "       144\n",
       "         ⋮\n",
       "    514229\n",
       "    832040\n",
       "   1346269\n",
       "   2178309\n",
       "   3524578\n",
       "   5702887\n",
       "   9227465\n",
       "  14930352\n",
       "  24157817\n",
       "  39088169\n",
       "  63245986\n",
       " 102334155"
      ]
     },
     "execution_count": 39,
     "metadata": {},
     "output_type": "execute_result"
    }
   ],
   "source": [
    "fib3(n) = if n == 0\n",
    "    0\n",
    "else\n",
    "    a = 0\n",
    "    b = 1\n",
    "    for i in 2:n\n",
    "        tmp = b\n",
    "        b = a + b\n",
    "        a = tmp\n",
    "    end\n",
    "    b\n",
    "end\n",
    "\n",
    "fib3.(0:40)"
   ]
  },
  {
   "cell_type": "code",
   "execution_count": 41,
   "metadata": {},
   "outputs": [
    {
     "name": "stdout",
     "output_type": "stream",
     "text": [
      "\t.text\n",
      "; ┌ @ In[39]:1 within `fib3'\n",
      "; │┌ @ In[39]:1 within `=='\n",
      "\ttestq\t%rdi, %rdi\n",
      "; │└\n",
      "\tje\tL67\n",
      "\tmovl\t$1, %eax\n",
      "; │ @ In[39]:6 within `fib3'\n",
      "; │┌ @ range.jl:5 within `Colon'\n",
      "; ││┌ @ range.jl:277 within `UnitRange'\n",
      "; │││┌ @ range.jl:282 within `unitrange_last'\n",
      "\tmovl\t$1, %ecx\n",
      "\tcmovgq\t%rdi, %rcx\n",
      "; ││││┌ @ operators.jl:341 within `>='\n",
      "; │││││┌ @ int.jl:410 within `<='\n",
      "\tcmpq\t$2, %rdi\n",
      "; │└└└└└\n",
      "\tjl\tL66\n",
      "; │ @ In[39]:8 within `fib3'\n",
      "; │┌ @ int.jl:53 within `+'\n",
      "\taddq\t$-1, %rcx\n",
      "\tmovl\t$1, %edx\n",
      "\txorl\t%esi, %esi\n",
      "\tnopw\t%cs:(%rax,%rax)\n",
      "\tnop\n",
      "L48:\n",
      "\tmovq\t%rsi, %rax\n",
      "\taddq\t%rdx, %rax\n",
      "\tmovq\t%rdx, %rsi\n",
      "\tmovq\t%rax, %rdx\n",
      "; │└\n",
      "; │ @ In[39]:9 within `fib3'\n",
      "; │┌ @ range.jl:597 within `iterate'\n",
      "; ││┌ @ promotion.jl:398 within `=='\n",
      "\taddq\t$-1, %rcx\n",
      "; │└└\n",
      "\tjne\tL48\n",
      "; │ @ In[39]:2 within `fib3'\n",
      "L66:\n",
      "\tretq\n",
      "L67:\n",
      "\txorl\t%eax, %eax\n",
      "; │ @ In[39]:2 within `fib3'\n",
      "\tretq\n",
      "\tnopw\t%cs:(%rax,%rax)\n",
      "; └\n"
     ]
    }
   ],
   "source": [
    "code_native(fib3, Tuple{Int64})"
   ]
  },
  {
   "cell_type": "code",
   "execution_count": 48,
   "metadata": {},
   "outputs": [],
   "source": [
    "using BenchmarkTools"
   ]
  },
  {
   "cell_type": "code",
   "execution_count": 49,
   "metadata": {},
   "outputs": [
    {
     "data": {
      "text/plain": [
       "BenchmarkTools.Trial: \n",
       "  memory estimate:  0 bytes\n",
       "  allocs estimate:  0\n",
       "  --------------\n",
       "  minimum time:     1.186 μs (0.00% GC)\n",
       "  median time:      1.190 μs (0.00% GC)\n",
       "  mean time:        1.233 μs (0.00% GC)\n",
       "  maximum time:     9.920 μs (0.00% GC)\n",
       "  --------------\n",
       "  samples:          10000\n",
       "  evals/sample:     10"
      ]
     },
     "execution_count": 49,
     "metadata": {},
     "output_type": "execute_result"
    }
   ],
   "source": [
    "@benchmark fib2(1000)"
   ]
  },
  {
   "cell_type": "code",
   "execution_count": 50,
   "metadata": {},
   "outputs": [
    {
     "data": {
      "text/plain": [
       "BenchmarkTools.Trial: \n",
       "  memory estimate:  0 bytes\n",
       "  allocs estimate:  0\n",
       "  --------------\n",
       "  minimum time:     438.899 ns (0.00% GC)\n",
       "  median time:      458.924 ns (0.00% GC)\n",
       "  mean time:        466.205 ns (0.00% GC)\n",
       "  maximum time:     1.169 μs (0.00% GC)\n",
       "  --------------\n",
       "  samples:          10000\n",
       "  evals/sample:     198"
      ]
     },
     "execution_count": 50,
     "metadata": {},
     "output_type": "execute_result"
    }
   ],
   "source": [
    "@benchmark fib3(1000)"
   ]
  }
 ],
 "metadata": {
  "kernelspec": {
   "display_name": "Julia 1.4.1",
   "language": "julia",
   "name": "julia-1.4"
  },
  "language_info": {
   "file_extension": ".jl",
   "mimetype": "application/julia",
   "name": "julia",
   "version": "1.4.1"
  }
 },
 "nbformat": 4,
 "nbformat_minor": 4
}
