{
 "cells": [
  {
   "cell_type": "markdown",
   "metadata": {},
   "source": [
    "## Logging\n",
    "\n",
    "https://docs.julialang.org/en/v1/stdlib/Logging/ を参照。"
   ]
  },
  {
   "cell_type": "code",
   "execution_count": 5,
   "metadata": {},
   "outputs": [
    {
     "name": "stderr",
     "output_type": "stream",
     "text": [
      "┌ Warning: 警告…警告…\n",
      "└ @ Main In[5]:1\n"
     ]
    }
   ],
   "source": [
    "@warn \"警告…警告…\""
   ]
  },
  {
   "cell_type": "code",
   "execution_count": 7,
   "metadata": {},
   "outputs": [
    {
     "name": "stderr",
     "output_type": "stream",
     "text": [
      "┌ Info: システム起動中…\n",
      "└ @ Main In[7]:1\n"
     ]
    }
   ],
   "source": [
    "@info \"システム起動中…\""
   ]
  },
  {
   "cell_type": "code",
   "execution_count": 9,
   "metadata": {},
   "outputs": [],
   "source": [
    "@debug \"コンポーネント初期化…\""
   ]
  },
  {
   "cell_type": "code",
   "execution_count": 10,
   "metadata": {},
   "outputs": [
    {
     "name": "stderr",
     "output_type": "stream",
     "text": [
      "┌ Error: ディスク故障\n",
      "└ @ Main In[10]:1\n"
     ]
    }
   ],
   "source": [
    "@error \"ディスク故障\""
   ]
  },
  {
   "cell_type": "markdown",
   "metadata": {},
   "source": [
    "debug は JULIA_DEBUG で"
   ]
  },
  {
   "cell_type": "code",
   "execution_count": 11,
   "metadata": {},
   "outputs": [
    {
     "data": {
      "text/plain": [
       "Main"
      ]
     },
     "execution_count": 11,
     "metadata": {},
     "output_type": "execute_result"
    }
   ],
   "source": [
    "ENV[\"JULIA_DEBUG\"] = Main"
   ]
  },
  {
   "cell_type": "code",
   "execution_count": 12,
   "metadata": {},
   "outputs": [
    {
     "name": "stderr",
     "output_type": "stream",
     "text": [
      "┌ Debug: Debuggin main\n",
      "└ @ Main In[12]:1\n"
     ]
    }
   ],
   "source": [
    "@debug \"Debuggin main\""
   ]
  }
 ],
 "metadata": {
  "kernelspec": {
   "display_name": "Julia 1.4.1",
   "language": "julia",
   "name": "julia-1.4"
  },
  "language_info": {
   "file_extension": ".jl",
   "mimetype": "application/julia",
   "name": "julia",
   "version": "1.4.1"
  }
 },
 "nbformat": 4,
 "nbformat_minor": 4
}
