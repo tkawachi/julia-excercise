{
 "cells": [
  {
   "cell_type": "markdown",
   "metadata": {},
   "source": [
    "https://docs.julialang.org/en/v1/stdlib/Test/"
   ]
  },
  {
   "cell_type": "code",
   "execution_count": 1,
   "metadata": {},
   "outputs": [
    {
     "data": {
      "text/plain": [
       "fizzbuzz (generic function with 1 method)"
      ]
     },
     "execution_count": 1,
     "metadata": {},
     "output_type": "execute_result"
    }
   ],
   "source": [
    "fizzbuzz(n) = if n % 3 == 0 && n % 5 == 0\n",
    "    \"fizzbuzz\"\n",
    "elseif n % 3 == 0\n",
    "    \"fizz\"\n",
    "elseif n % 5 == 0\n",
    "    \"buzz\"\n",
    "else\n",
    "    \"\"\n",
    "end"
   ]
  },
  {
   "cell_type": "code",
   "execution_count": 4,
   "metadata": {},
   "outputs": [],
   "source": [
    "using Test"
   ]
  },
  {
   "cell_type": "markdown",
   "metadata": {},
   "source": [
    "成功するテスト"
   ]
  },
  {
   "cell_type": "code",
   "execution_count": 5,
   "metadata": {},
   "outputs": [
    {
     "data": {
      "text/plain": [
       "\u001b[32m\u001b[1mTest Passed\u001b[22m\u001b[39m"
      ]
     },
     "execution_count": 5,
     "metadata": {},
     "output_type": "execute_result"
    }
   ],
   "source": [
    "@test fizzbuzz(3) == \"fizz\"\n",
    "@test fizzbuzz(5) == \"buzz\"\n",
    "@test fizzbuzz(15) == \"fizzbuzz\"\n",
    "@test fizzbuzz(16) == \"\""
   ]
  },
  {
   "cell_type": "markdown",
   "metadata": {},
   "source": [
    "失敗するテスト"
   ]
  },
  {
   "cell_type": "code",
   "execution_count": 8,
   "metadata": {},
   "outputs": [
    {
     "name": "stdout",
     "output_type": "stream",
     "text": [
      "\u001b[91m\u001b[1mTest Failed\u001b[22m\u001b[39m at \u001b[39m\u001b[1mIn[8]:1\u001b[22m\n",
      "  Expression: fizzbuzz(3) == \"\"\n",
      "   Evaluated: \"fizz\" == \"\"\n"
     ]
    },
    {
     "ename": "Test.FallbackTestSetException",
     "evalue": "There was an error during testing",
     "output_type": "error",
     "traceback": [
      "There was an error during testing",
      "",
      "Stacktrace:",
      " [1] record(::Test.FallbackTestSet, ::Union{Test.Error, Test.Fail}) at /build/julia-98cBbp/julia-1.4.1+dfsg/usr/share/julia/stdlib/v1.4/Test/src/Test.jl:737",
      " [2] do_test(::Test.ExecutionResult, ::Any) at /build/julia-98cBbp/julia-1.4.1+dfsg/usr/share/julia/stdlib/v1.4/Test/src/Test.jl:520",
      " [3] top-level scope at In[8]:1"
     ]
    }
   ],
   "source": [
    "@test fizzbuzz(3) == \"\""
   ]
  },
  {
   "cell_type": "code",
   "execution_count": 14,
   "metadata": {},
   "outputs": [
    {
     "data": {
      "text/plain": [
       "\u001b[32m\u001b[1mTest Passed\u001b[22m\u001b[39m"
      ]
     },
     "execution_count": 14,
     "metadata": {},
     "output_type": "execute_result"
    }
   ],
   "source": [
    "# ≈ は isapprox\n",
    "@test isapprox(1.0, 0.999999999)\n",
    "@test 1.0 ≈ 0.99999999"
   ]
  },
  {
   "cell_type": "markdown",
   "metadata": {},
   "source": [
    "テストセット"
   ]
  },
  {
   "cell_type": "code",
   "execution_count": 11,
   "metadata": {},
   "outputs": [
    {
     "name": "stdout",
     "output_type": "stream",
     "text": [
      "\u001b[37m\u001b[1mTest Summary: | \u001b[22m\u001b[39m\u001b[32m\u001b[1mPass  \u001b[22m\u001b[39m\u001b[36m\u001b[1mTotal\u001b[22m\u001b[39m\n",
      "セット1          | \u001b[32m   2  \u001b[39m\u001b[36m    2\u001b[39m\n"
     ]
    },
    {
     "data": {
      "text/plain": [
       "Test.DefaultTestSet(\"セット1\", Any[], 2, false)"
      ]
     },
     "execution_count": 11,
     "metadata": {},
     "output_type": "execute_result"
    }
   ],
   "source": [
    "set1 = @testset \"セット1\" begin\n",
    "    @test pi ≈ 3.1415926535\n",
    "    @test sqrt(2) ≈ 1.41421356\n",
    "end\n"
   ]
  },
  {
   "cell_type": "markdown",
   "metadata": {},
   "source": [
    "ネストしたテストセット"
   ]
  },
  {
   "cell_type": "code",
   "execution_count": 19,
   "metadata": {},
   "outputs": [
    {
     "name": "stdout",
     "output_type": "stream",
     "text": [
      "\u001b[37m\u001b[1mTest Summary: | \u001b[22m\u001b[39m\u001b[32m\u001b[1mPass  \u001b[22m\u001b[39m\u001b[36m\u001b[1mTotal\u001b[22m\u001b[39m\n",
      "大分類1          | \u001b[32m   4  \u001b[39m\u001b[36m    4\u001b[39m\n"
     ]
    },
    {
     "data": {
      "text/plain": [
       "Test.DefaultTestSet(\"大分類1\", Any[Test.DefaultTestSet(\"項目1-1\", Any[], 1, false), Test.DefaultTestSet(\"項目1-2\", Any[], 1, false), Test.DefaultTestSet(\"小分類1\", Any[Test.DefaultTestSet(\"項目1-1-1\", Any[], 1, false), Test.DefaultTestSet(\"項目1-1-2\", Any[], 1, false)], 0, false)], 0, false)"
      ]
     },
     "execution_count": 19,
     "metadata": {},
     "output_type": "execute_result"
    }
   ],
   "source": [
    "@testset \"大分類1\" begin\n",
    "    @testset \"項目1-1\" begin\n",
    "        @test true\n",
    "    end\n",
    "    @testset \"項目1-2\" begin\n",
    "        @test true\n",
    "    end\n",
    "    @testset \"小分類1\" begin\n",
    "        @testset \"項目1-1-1\" begin\n",
    "            @test true\n",
    "        end\n",
    "        @testset \"項目1-1-2\" begin\n",
    "            @test true\n",
    "        end\n",
    "    end\n",
    "end"
   ]
  }
 ],
 "metadata": {
  "kernelspec": {
   "display_name": "Julia 1.4.1",
   "language": "julia",
   "name": "julia-1.4"
  },
  "language_info": {
   "file_extension": ".jl",
   "mimetype": "application/julia",
   "name": "julia",
   "version": "1.4.1"
  }
 },
 "nbformat": 4,
 "nbformat_minor": 4
}
